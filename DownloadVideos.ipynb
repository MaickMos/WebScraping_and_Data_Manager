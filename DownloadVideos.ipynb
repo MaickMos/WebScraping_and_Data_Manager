{
 "cells": [
  {
   "cell_type": "code",
   "execution_count": 9,
   "metadata": {},
   "outputs": [],
   "source": [
    "from selenium import webdriver\n",
    "from selenium.webdriver.chrome.options import Options\n",
    "import time\n",
    "import requests\n",
    "from urllib.request import urlopen\n",
    "from bs4 import BeautifulSoup\n",
    "import pandas as pd\n",
    "import csv\n",
    "import os\n",
    "import re"
   ]
  },
  {
   "cell_type": "markdown",
   "metadata": {},
   "source": [
    "## Funcion para imagenes"
   ]
  },
  {
   "cell_type": "code",
   "execution_count": 24,
   "metadata": {},
   "outputs": [],
   "source": [
    "def Is_A_Image(i,Datos):\n",
    "    global imagenes\n",
    "    #update\n",
    "    with open(\"Videos/Imagenes.csv\", mode='a', newline='', encoding='utf-8') as file:\n",
    "        writer = csv.writer(file)\n",
    "        writer.writerow(Datos.iloc[i])\n",
    "        print(f\"{Datos['ID_global'][i]} - {Datos['Name_Collecion'][i]} es una Imagen\")\n",
    "        imagenes.append(Datos['ID_global'][i])\n",
    "    "
   ]
  },
  {
   "cell_type": "markdown",
   "metadata": {},
   "source": [
    "## Funcion para descargar Imagenes"
   ]
  },
  {
   "cell_type": "code",
   "execution_count": 23,
   "metadata": {},
   "outputs": [],
   "source": [
    "def downloadVideo(i,Datos,SetEstado,SetIsVideo):\n",
    "    global contador, imagenes,numero\n",
    "    YaDescagados=0\n",
    "    if  Datos['ID_global'][i] in numero:\n",
    "        YaDescagados=YaDescagados+1\n",
    "        #print(f\"Video Ya descagados: {YaDescagados}\")\n",
    "        print(f\"Downloading #{i}, {Datos['ID_global'][i]} - {Datos['Name_Collecion'][i]}  \")\n",
    "        SetEstado[i]=True\n",
    "        SetIsVideo[i]=True\n",
    "        return SetEstado, SetIsVideo\n",
    "    else:\n",
    "        time.sleep(10)\n",
    "        print(f\"Downloading #{i}, {Datos['ID_global'][i]} - {Datos['Name_Collecion'][i]}  \")\n",
    "        cookies = {\n",
    "        '_gid': 'GA1.2.878157108.1690820648',\n",
    "        '_gat_UA-3524196-6': '1',\n",
    "        '__gads': 'ID=3281be1f74ab44d0-2266a3fee3e20018:T=1690068274:RT=1690820649:S=ALNI_MZODM4KH8UYK4ohXGU93iRDHgL_ig',\n",
    "        '__gpi': 'UID=00000d041539819a:T=1690068274:RT=1690820649:S=ALNI_MZIvkdEiRLqePSycCVe-15roIaZuA',\n",
    "        'FCNEC': '%5B%5B%22AKsRol9khqVzapGobuqoYMHxvS4E4RqySH-E7uez2tCcnhY7GqygbsqdOiAJPL_AcdrnO5AFCMuQmWhiWcxKJ4sR6tfPbeWGfC4U7qVdd3lqBmkOGnWyAOj8MjuC5fwI5f4gS6tZt4BnUWnz6wjypVPB6NOH2u649A%3D%3D%22%5D%2Cnull%2C%5B%5D%5D',\n",
    "        '_ga': 'GA1.2.1833992876.1690068274',\n",
    "        '_ga_ZSF3D6YSLC': 'GS1.1.1690820648.4.1.1690820685.0.0.0',\n",
    "        }\n",
    "\n",
    "        headers = {\n",
    "\n",
    "        'authority': 'ssstik.io',\n",
    "        'accept': '*/*',\n",
    "        'accept-language': 'en-US,en;q=0.9,es-US;q=0.8,es;q=0.7',\n",
    "        'content-type': 'application/x-www-form-urlencoded; charset=UTF-8',\n",
    "        # 'cookie': '_gid=GA1.2.878157108.1690820648; _gat_UA-3524196-6=1; __gads=ID=3281be1f74ab44d0-2266a3fee3e20018:T=1690068274:RT=1690820649:S=ALNI_MZODM4KH8UYK4ohXGU93iRDHgL_ig; __gpi=UID=00000d041539819a:T=1690068274:RT=1690820649:S=ALNI_MZIvkdEiRLqePSycCVe-15roIaZuA; FCNEC=%5B%5B%22AKsRol9khqVzapGobuqoYMHxvS4E4RqySH-E7uez2tCcnhY7GqygbsqdOiAJPL_AcdrnO5AFCMuQmWhiWcxKJ4sR6tfPbeWGfC4U7qVdd3lqBmkOGnWyAOj8MjuC5fwI5f4gS6tZt4BnUWnz6wjypVPB6NOH2u649A%3D%3D%22%5D%2Cnull%2C%5B%5D%5D; _ga=GA1.2.1833992876.1690068274; _ga_ZSF3D6YSLC=GS1.1.1690820648.4.1.1690820685.0.0.0',\n",
    "        'hx-current-url': 'https://ssstik.io/es',\n",
    "        'hx-request': 'true',\n",
    "        'hx-target': 'target',\n",
    "        'hx-trigger': '_gcaptcha_pt',\n",
    "        'origin': 'https://ssstik.io',\n",
    "        'referer': 'https://ssstik.io/es',\n",
    "        'sec-ch-ua': '\"Not/A)Brand\";v=\"99\", \"Google Chrome\";v=\"115\", \"Chromium\";v=\"115\"',\n",
    "        'sec-ch-ua-mobile': '?0',\n",
    "        'sec-ch-ua-platform': '\"Windows\"',\n",
    "        'sec-fetch-dest': 'empty',\n",
    "        'sec-fetch-mode': 'cors',\n",
    "        'sec-fetch-site': 'same-origin',\n",
    "        'user-agent': 'Mozilla/5.0 (Windows NT 10.0; Win64; x64) AppleWebKit/537.36 (KHTML, like Gecko) Chrome/115.0.0.0 Safari/537.36',\n",
    "\n",
    "        }\n",
    "\n",
    "        params = {\n",
    "            'url': 'dl',\n",
    "        }\n",
    "\n",
    "        data = {\n",
    "            'id': Datos['Link'][i],\n",
    "            'locale': 'es',\n",
    "            'tt': 'OFBlYnRl', # NOTE: This value gets changed, please use the value that you get when you copy the curl command from the network console\n",
    "        }\n",
    "        \n",
    "        #print(\"STEP 4: Getting the download link\")\n",
    "        #print(\"If this step fails, PLEASE read the steps above\")\n",
    "        response = requests.post('https://ssstik.io/abc', params=params, cookies=cookies, headers=headers, data=data)\n",
    "        downloadSoup = BeautifulSoup(response.text, \"html.parser\")\n",
    "        #print(f\"downloadSoup {id}:\",downloadSoup)\n",
    "        downloadLink = downloadSoup.a[\"href\"]\n",
    "        Allhref = downloadSoup.find_all('a')\n",
    "        #print(\"hay :\",len(Allhref))\n",
    "        # Ahora iteramos sobre la lista de elementos <a> y obtenemos los valores del atributo 'href'\n",
    "        \n",
    "        if len(Allhref)>3:\n",
    "            SetEstado[i]=False\n",
    "            SetIsVideo[i]=False\n",
    "            Is_A_Image(i,Datos)\n",
    "            return SetEstado, SetIsVideo\n",
    "\n",
    "        mp4File = urlopen(downloadLink)\n",
    "        \n",
    "\n",
    "        with open(f\"D:/Users/maick/Desktop/Kelly Pero Que Monda/Codigos/Scrapping Tiktok/Videos/{Datos['Name_Collecion'][i]}/{Datos['ID_global'][i]}_{Datos['Name_Collecion'][i]}.mp4\", \"wb\") as output: \n",
    "            while True:\n",
    "                video = mp4File.read(4096)\n",
    "                if video:\n",
    "                    output.write(video)\n",
    "                else:\n",
    "                    print(\"Done\")\n",
    "                    contador = contador + 1  \n",
    "                    SetEstado[i]=True\n",
    "                    SetIsVideo[i]=True\n",
    "                    return SetEstado, SetIsVideo"
   ]
  },
  {
   "cell_type": "markdown",
   "metadata": {},
   "source": [
    "# Main"
   ]
  },
  {
   "cell_type": "code",
   "execution_count": 30,
   "metadata": {},
   "outputs": [
    {
     "name": "stdout",
     "output_type": "stream",
     "text": [
      "Downloading #0, 2036 - Inspirador  \n",
      "Error : unknown url type: '/'\n",
      "Downloading #1, 13055 - Viajar  \n",
      "Error : unknown url type: '/'\n",
      "Downloading #2, 25034 - Timido  \n",
      "25034 - Timido es una Imagen\n",
      "Downloading #3, 36004 - Mensajes en obras  \n",
      "36004 - Mensajes en obras es una Imagen\n",
      "Downloading #4, 37003 - Cute  \n",
      "Error : unknown url type: '/'\n",
      "Downloading #5, 38000 - Gentuza ligando  \n",
      "Error : unknown url type: '/'\n",
      "Downloading #6, 44010 - Life hacks  \n",
      "Error : unknown url type: '/'\n"
     ]
    }
   ],
   "source": [
    "Archivo=\"ErrorLinks.csv\"\n",
    "global contador, numero\n",
    "Datos= pd.read_csv(Archivo)\n",
    "Estado = Datos['Descargado'].values\n",
    "IsVideo = Datos['Video'].values\n",
    "contador = 0\n",
    "NoneType=0\n",
    "imagenes = []\n",
    "for i, link in enumerate(Datos['Link']):#, start=823):\n",
    "    if NoneType < 3:\n",
    "        try:\n",
    "            NoneType=0\n",
    "            Estado, IsVideo = downloadVideo(i,Datos,Estado,IsVideo)\n",
    "            \n",
    "        except Exception as e:\n",
    "            NoneType=NoneType+1\n",
    "            with open(\"Videos/Error.csv\", mode='a', newline='', encoding='utf-8') as file:\n",
    "                    writer = csv.writer(file)\n",
    "                    writer.writerow([f\"■Error en la funcion para descargar: {Datos['ID_global'][i]} - {Datos['Name_Collecion'][i]}\"])\n",
    "                    print(\"Error :\", e)\n",
    "                    writer.writerow([str(e)])\n",
    "            with open(\"Videos/ErrorLinks.csv\", mode='a', newline='', encoding='utf-8') as file:\n",
    "                    writer = csv.writer(file)\n",
    "                    writer.writerow(Datos.iloc[i])\n",
    "                    \n",
    "        Datos['Descargado']=Estado\n",
    "        Datos['Video']=IsVideo\n",
    "        Datos.to_csv(Archivo, index=False)\n",
    "        #print(f\"Descarga #{contador}\")\n",
    "    else:\n",
    "        print(f\"Se detectaron {NoneType} NoneType seguidos, terminando programa...\")\n",
    "        break\n",
    "\n"
   ]
  },
  {
   "cell_type": "markdown",
   "metadata": {},
   "source": [
    "# Funciones"
   ]
  },
  {
   "cell_type": "markdown",
   "metadata": {},
   "source": [
    "## Videos ya descargados"
   ]
  },
  {
   "cell_type": "code",
   "execution_count": null,
   "metadata": {},
   "outputs": [],
   "source": [
    "\n",
    "# Especifica la ruta de la carpeta que deseas explorar\n",
    "carpeta_a_explorar = 'Videos/'\n",
    "\n",
    "# Llama a la función y obtén los nombres de las carpetas\n",
    "archivos_en_carpeta = obtener_nombres_archivos(carpeta_a_explorar)\n",
    "print(archivos_en_carpeta)\n",
    "# Imprime los nombres de los archivos\n",
    "global numero\n",
    "numero = []\n",
    "for archivo in archivos_en_carpeta:\n",
    "    print(archivo)\n",
    "    numero.append(obtener_numero_desde_cadena(archivo))\n",
    "numero\n"
   ]
  },
  {
   "cell_type": "markdown",
   "metadata": {},
   "source": [
    "## Crear carpetas con nombres de coleccion"
   ]
  },
  {
   "cell_type": "markdown",
   "metadata": {},
   "source": [
    "### Mirar que carpetas faltan"
   ]
  },
  {
   "cell_type": "code",
   "execution_count": 71,
   "metadata": {},
   "outputs": [
    {
     "name": "stdout",
     "output_type": "stream",
     "text": [
      "53\n",
      "['Escuchar a diario' 'Inspirador' 'Pa pensarlo' 'Habitos' 'Finanzas'\n",
      " 'Favoritos' 'Comida' 'Lloro' 'Tiktok' 'Minecraft' 'Música' 'Pain'\n",
      " 'Viajar' 'Ejercicio' 'Psicología' 'Inversiones' 'Me gusta' 'Ganar dinero'\n",
      " 'Sugoi' 'Love' 'La vida no es sencilla' 'Entorno' 'Stand Up' 'Ir'\n",
      " 'Timido' 'Just Do it' 'Autoconfianza' 'Apariencia' 'Amor en pareja'\n",
      " 'Concejos amor' 'Como actuar - Coquetear' 'Que decir Hacer - Coqueteo'\n",
      " 'Gente extrovertida' 'Oratoria' 'Cuentos sabios' 'Mensajes en obras'\n",
      " 'Cute' 'Gentuza ligando' 'Chats' 'Programación' 'Laboral' 'Handstand'\n",
      " 'Aprender' 'Life hacks' 'Emprender' 'Fotos' 'idiomas' 'Horny' 'Carisma'\n",
      " 'Libros' 'Por ver' 'IA' 'Postura']\n",
      "['Que decir Hacer - Coqueteo', 'Gente extrovertida', 'Oratoria', 'Cuentos sabios', 'Mensajes en obras', 'Cute', 'Gentuza ligando', 'Chats', 'Programación', 'Laboral', 'Handstand', 'Aprender', 'Life hacks', 'Emprender', 'Fotos', 'idiomas', 'Horny', 'Carisma', 'Libros', 'Por ver', 'IA', 'Postura']\n",
      "22\n"
     ]
    }
   ],
   "source": [
    "Archivo=\"Collection_Links.csv\"\n",
    "Colecciones= pd.read_csv(Archivo)\n",
    "nomcolecion2=[]\n",
    "nomcolecion = Colecciones['name'].values\n",
    "print(len(Colecciones['name']))\n",
    "print(nomcolecion)\n",
    "for colecion in nomcolecion:\n",
    "    if colecion in archivos_en_carpeta:\n",
    "        pass\n",
    "    else:\n",
    "        nomcolecion2.append(colecion)\n",
    "print(nomcolecion2)\n",
    "print(len(nomcolecion2))"
   ]
  },
  {
   "cell_type": "markdown",
   "metadata": {},
   "source": [
    "### Crear carpetas"
   ]
  },
  {
   "cell_type": "code",
   "execution_count": 72,
   "metadata": {},
   "outputs": [],
   "source": [
    "def crear_carpetas(lista_valores, carpeta_padre):\n",
    "    # Comprueba si la carpeta padre existe, si no, la crea\n",
    "    if not os.path.exists(carpeta_padre):\n",
    "        os.mkdir(carpeta_padre)\n",
    "\n",
    "    # Crea las carpetas dentro de la carpeta padre utilizando los valores de la lista\n",
    "    for valor in lista_valores:\n",
    "        ruta_carpeta = os.path.join(carpeta_padre, str(valor))\n",
    "        if not os.path.exists(ruta_carpeta):\n",
    "            os.mkdir(ruta_carpeta)\n",
    "\n",
    "# Ejemplo de uso\n",
    "\n",
    "carpeta_padre = 'Videos/'\n",
    "\n",
    "crear_carpetas(nomcolecion2, carpeta_padre)\n"
   ]
  },
  {
   "cell_type": "markdown",
   "metadata": {},
   "source": [
    "## Ver nombre de carpetas"
   ]
  },
  {
   "cell_type": "code",
   "execution_count": 26,
   "metadata": {},
   "outputs": [
    {
     "name": "stdout",
     "output_type": "stream",
     "text": [
      "1521\n"
     ]
    }
   ],
   "source": [
    "def obtener_nombres_archivos(carpeta):\n",
    "    nombres_archivos = []\n",
    "\n",
    "    # Recorre todas las carpetas y subcarpetas dentro de la carpeta especificada\n",
    "    for ruta_actual, carpetas, archivos in os.walk(carpeta):\n",
    "        # Agrega los nombres de los archivos en la ruta actual a la lista\n",
    "        for archivo in archivos:\n",
    "            nombres_archivos.append(os.path.join(ruta_actual, archivo))\n",
    "\n",
    "    return nombres_archivos\n",
    "\n",
    "# Especifica la ruta de la carpeta que deseas explorar\n",
    "carpeta_a_explorar = 'Videos/'\n",
    "\n",
    "\n",
    "####\n",
    "# Llama a la función y obtén los nombres de las carpetas\n",
    "archivos_en_carpeta = obtener_nombres_archivos(carpeta_a_explorar)\n",
    "print(len(archivos_en_carpeta))"
   ]
  },
  {
   "cell_type": "code",
   "execution_count": null,
   "metadata": {},
   "outputs": [],
   "source": [
    "Archivo=\"LinksTikToks.csv\"\n",
    "Datos= pd.read_csv(Archivo)\n",
    "\n",
    "Sindescargar=[]\n",
    "for i,ID in enumerate(Datos['ID_global']):\n",
    "    if ID in numero:\n",
    "        Datos['Descargado'][i] = True\n",
    "    else:\n",
    "        Sindescargar.append(ID)       \n",
    "print(Sindescargar)\n",
    "len(Sindescargar)"
   ]
  },
  {
   "cell_type": "code",
   "execution_count": 32,
   "metadata": {},
   "outputs": [],
   "source": [
    "#Cosas por mejorar:\n",
    "#-Hay algunos videos (muy raros) que no se descargan por que aparece el error:\n",
    "#Downloading #1, 13055 - Viajar  \n",
    "#Error : unknown url type: '/'\n",
    "#La pagina (SSSTiktok),no puede descargar estos videos idk\n",
    "#-Encontrar una Forma de descargar imagenes"
   ]
  }
 ],
 "metadata": {
  "kernelspec": {
   "display_name": "Python 3",
   "language": "python",
   "name": "python3"
  },
  "language_info": {
   "codemirror_mode": {
    "name": "ipython",
    "version": 3
   },
   "file_extension": ".py",
   "mimetype": "text/x-python",
   "name": "python",
   "nbconvert_exporter": "python",
   "pygments_lexer": "ipython3",
   "version": "3.11.3"
  },
  "orig_nbformat": 4
 },
 "nbformat": 4,
 "nbformat_minor": 2
}
