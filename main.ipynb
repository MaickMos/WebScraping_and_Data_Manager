{
 "cells": [
  {
   "cell_type": "code",
   "execution_count": null,
   "metadata": {},
   "outputs": [],
   "source": []
  },
  {
   "cell_type": "markdown",
   "metadata": {},
   "source": [
    "### Get Data from .csv"
   ]
  },
  {
   "cell_type": "code",
   "execution_count": null,
   "metadata": {},
   "outputs": [],
   "source": [
    "datos = DB.get_data_from_CSV(\"tiktoks_links_v1\")\n",
    "#DB.Insert_in_column(\"collection_tk\",\"tiktok_links_v1\",datos)\n",
    "\n",
    "datos = DB.get_data_from_CSV(\"collection_links_v1\")\n",
    "DB.Insert_in_column(\"Collections_tk\",\"collections_v1\",datos)"
   ]
  },
  {
   "cell_type": "markdown",
   "metadata": {},
   "source": [
    "### Get Data from DB"
   ]
  },
  {
   "cell_type": "code",
   "execution_count": null,
   "metadata": {},
   "outputs": [],
   "source": [
    "#get the links of collections from DB\n",
    "database = \"collection_tk\"\n",
    "table = \"tiktok_links_v1\"\n",
    "#get the number of collections\n",
    "consult = f\"SELECT COUNT(name) FROM {table}\"\n",
    "resultado = DB.Querry(database,consult)\n",
    "print(resultado)\n",
    "for i in len(resultado):\n",
    "    consult = f\"SELECT * FROM {table} where ID = {i}\"\n",
    "    resultado = DB.Querry(database,consult)\n",
    "    #DB.Insert_in_column(database,table,resultado)\n",
    "    #agregar una comprobacion de los datos antes de subir a la base de datos"
   ]
  },
  {
   "cell_type": "markdown",
   "metadata": {},
   "source": [
    "### Get Data from Links Tiktoks Collections"
   ]
  },
  {
   "cell_type": "code",
   "execution_count": null,
   "metadata": {},
   "outputs": [],
   "source": [
    "Cabecera=True\n",
    "# Abrir el archivo y leer sus líneas\n",
    "\n",
    "linkstiktok=GetLinksTiktoks(link_cole)\n",
    "with open(\"LinksTikToks.csv\", mode='a', newline='', encoding='utf-8') as file:\n",
    "    writer = csv.writer(file)\n",
    "# Escribir la cabecera\n",
    "    if Cabecera:\n",
    "        writer.writerow([\"ID_global\",\"ID_colleccion\",\"Name_Collecion\",\"Link\"])\n",
    "    Cabecera=False"
   ]
  },
  {
   "cell_type": "markdown",
   "metadata": {},
   "source": [
    "WEb Scrapping to get data from the tiktok collections "
   ]
  },
  {
   "cell_type": "code",
   "execution_count": null,
   "metadata": {},
   "outputs": [],
   "source": [
    "\n",
    "WB.open_main_page_user(\"link_home_page_tiktok\",\"class_button_favorite\")\n",
    "#get the list of the links of the collections\n",
    "number,link,name,count = WB.get_links_collections_from_page(\"class_collection\",\"class_label\")\n",
    "\n",
    "print(number,link,name,count)\n",
    "#Save in the database\n",
    "database = \"collection_tk\"\n",
    "table = \"tiktok_links_v1\"\n",
    "#DB.Insert_in_column(table,table,collections)\n",
    "\n",
    "print(\"Esperando para cerrar...\")"
   ]
  }
 ],
 "metadata": {
  "kernelspec": {
   "display_name": "Python 3",
   "language": "python",
   "name": "python3"
  },
  "language_info": {
   "codemirror_mode": {
    "name": "ipython",
    "version": 3
   },
   "file_extension": ".py",
   "mimetype": "text/x-python",
   "name": "python",
   "nbconvert_exporter": "python",
   "pygments_lexer": "ipython3",
   "version": "3.11.3"
  }
 },
 "nbformat": 4,
 "nbformat_minor": 2
}
